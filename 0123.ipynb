{
 "cells": [
  {
   "cell_type": "markdown",
   "metadata": {
    "id": "dTDf6B7bhHAD"
   },
   "source": [
    "#복습문제\n",
    "  - 가위바위보게임"
   ]
  },
  {
   "cell_type": "code",
   "execution_count": null,
   "metadata": {
    "colab": {
     "base_uri": "https://localhost:8080/"
    },
    "executionInfo": {
     "elapsed": 23312,
     "status": "ok",
     "timestamp": 1737596067522,
     "user": {
      "displayName": "함상현",
      "userId": "09828385127103845547"
     },
     "user_tz": -540
    },
    "id": "OCiMi8jMg6x6",
    "outputId": "e29ebd2d-2492-4df0-e2aa-6d00edd691c9"
   },
   "outputs": [
    {
     "name": "stdout",
     "output_type": "stream",
     "text": [
      "!!!!게임시작!!!!(총 10경기) \n",
      "\n",
      "가위 강바위 보를 입력하세요.: 가위\n",
      "컴퓨터: 보\n",
      "\n",
      "***결과***\n",
      "승리 하였습니다.\n",
      "\n",
      "전적) 승:1 패:0 무승부:0\n",
      "남은 경기 수 : 9\n",
      "------------ \n",
      "\n",
      "가위 강바위 보를 입력하세요.: 바위\n",
      "컴퓨터: 바위\n",
      "\n",
      "***결과***\n",
      "비겼습니다.\n",
      "\n",
      "전적) 승:1 패:0 무승부:1\n",
      "남은 경기 수 : 8\n",
      "------------ \n",
      "\n",
      "가위 강바위 보를 입력하세요.: 보\n",
      "컴퓨터: 바위\n",
      "\n",
      "***결과***\n",
      "승리 하였습니다.\n",
      "\n",
      "전적) 승:2 패:0 무승부:1\n",
      "남은 경기 수 : 7\n",
      "------------ \n",
      "\n",
      "가위 강바위 보를 입력하세요.: 보\n",
      "컴퓨터: 가위\n",
      "\n",
      "***결과***\n",
      "패배 하였습니다.\n",
      "\n",
      "전적) 승:2 패:1 무승부:1\n",
      "남은 경기 수 : 6\n",
      "------------ \n",
      "\n",
      "가위 강바위 보를 입력하세요.: 가위\n",
      "컴퓨터: 바위\n",
      "\n",
      "***결과***\n",
      "패배 하였습니다.\n",
      "\n",
      "전적) 승:2 패:2 무승부:1\n",
      "남은 경기 수 : 5\n",
      "------------ \n",
      "\n",
      "가위 강바위 보를 입력하세요.: 바위\n",
      "컴퓨터: 가위\n",
      "\n",
      "***결과***\n",
      "승리 하였습니다.\n",
      "\n",
      "전적) 승:3 패:2 무승부:1\n",
      "남은 경기 수 : 4\n",
      "------------ \n",
      "\n",
      "가위 강바위 보를 입력하세요.: 보\n",
      "컴퓨터: 보\n",
      "\n",
      "***결과***\n",
      "비겼습니다.\n",
      "\n",
      "전적) 승:3 패:2 무승부:2\n",
      "남은 경기 수 : 3\n",
      "------------ \n",
      "\n",
      "가위 강바위 보를 입력하세요.: 가위\n",
      "컴퓨터: 보\n",
      "\n",
      "***결과***\n",
      "승리 하였습니다.\n",
      "\n",
      "전적) 승:4 패:2 무승부:2\n",
      "남은 경기 수 : 2\n",
      "------------ \n",
      "\n",
      "가위 강바위 보를 입력하세요.: 바위\n",
      "컴퓨터: 가위\n",
      "\n",
      "***결과***\n",
      "승리 하였습니다.\n",
      "\n",
      "전적) 승:5 패:2 무승부:2\n",
      "남은 경기 수 : 1\n",
      "------------ \n",
      "\n",
      "가위 강바위 보를 입력하세요.: 보\n",
      "컴퓨터: 보\n",
      "\n",
      "***결과***\n",
      "비겼습니다.\n",
      "\n",
      "전적) 승:5 패:2 무승부:3\n",
      "남은 경기 수 : 0\n",
      "------------ \n",
      "\n",
      "게임이 종료되었습니다\n",
      "당신의 최종 전적은 5승 // 3무 // 2패\n"
     ]
    }
   ],
   "source": [
    "import random\n",
    "\n",
    "print('!!!!게임시작!!!!(총 10경기)','\\n')\n",
    "s_list =[0, 0, 0]\n",
    "\n",
    "for i in range(10):\n",
    "  user = input('가위 바위 보를 입력하세요.: ')\n",
    "  unum = 0\n",
    "\n",
    "  if user == '가위':\n",
    "    unum = 1\n",
    "  elif user == '바위':\n",
    "    unum = 2\n",
    "  elif user == '보':\n",
    "    unum = 3\n",
    "  else:\n",
    "    print(\"입력이 잘못 되었습니다.(가위 바위 보 중 하나만 입력하세요.)\")\n",
    "\n",
    "  com = random.randint(1,3)\n",
    "\n",
    "  if com == 1:\n",
    "    print('컴퓨터: 가위')\n",
    "  elif com == 2:\n",
    "    print('컴퓨터: 바위')\n",
    "  else:\n",
    "    print('컴퓨터: 보')\n",
    "  print()\n",
    "\n",
    "  print('***결과***')\n",
    "  if unum == com:\n",
    "    s_list[2] += 1\n",
    "    print('비겼습니다.')\n",
    "  elif unum == 1 and com == 3:\n",
    "    s_list[0] += 1\n",
    "    print('승리 하였습니다.')\n",
    "  elif unum == 2 and com == 1:\n",
    "    s_list[0] += 1\n",
    "    print('승리 하였습니다.')\n",
    "  elif unum == 3 and com == 2:\n",
    "    s_list[0] += 1\n",
    "    print('승리 하였습니다.')\n",
    "  else:\n",
    "    s_list[1] += 1\n",
    "    print('패배 하였습니다.')\n",
    "  print()\n",
    "  print(f'전적) 승:{s_list[0]} 패:{s_list[1]} 무승부:{s_list[2]}')\n",
    "  print(f'남은 경기 수 : {9-i}')\n",
    "  print('------------','\\n')\n",
    "\n",
    "print('게임이 종료되었습니다')\n",
    "print(f'당신의 10게임 중 최종 전적은 {s_list[0]}승 // {s_list[2]}무 // {s_list[1]}패')\n"
   ]
  },
  {
   "cell_type": "markdown",
   "metadata": {
    "id": "hwYZBGgX8Mt0"
   },
   "source": [
    "#문자열 메소드\n",
    "  - 문자열 길이 반환\n",
    "  - 소문자로 변환\n",
    "  - 대문자로 변환\n",
    "  - 특정 문자열 포함 여부 확인\n",
    "  - 문자열 치환"
   ]
  },
  {
   "cell_type": "code",
   "execution_count": 33,
   "metadata": {
    "colab": {
     "base_uri": "https://localhost:8080/"
    },
    "executionInfo": {
     "elapsed": 319,
     "status": "ok",
     "timestamp": 1737598521293,
     "user": {
      "displayName": "함상현",
      "userId": "09828385127103845547"
     },
     "user_tz": -540
    },
    "id": "2tTzj7RAxw0P",
    "outputId": "ca14cce1-41ee-4459-c9c4-6c01e397e9be"
   },
   "outputs": [
    {
     "name": "stdout",
     "output_type": "stream",
     "text": [
      "13\n",
      "hello, world!\n",
      "HELLO, WORLD!\n",
      "True\n",
      "Hello, Python!\n"
     ]
    }
   ],
   "source": [
    "text = \"Hello, World!\"\n",
    "\n",
    "# 문자열 길이 반환\n",
    "print(len(text)) # 13\n",
    "\n",
    "# 소문자로 변환\n",
    "print(text.lower()) # \"hello, world!\"\n",
    "\n",
    "# 대문자로 변환\n",
    "print(text.upper()) # \"HELLO, WORLD!\"\n",
    "\n",
    "# 특정 문자열 포함 여부 확인\n",
    "print(\"World\" in text) # True\n",
    "\n",
    "# 문자열 치환\n",
    "print(text.replace(\"World\", \"Python\")) # \"Hello, Python!\""
   ]
  },
  {
   "cell_type": "markdown",
   "metadata": {
    "id": "gUx24jEF8Z8U"
   },
   "source": [
    "#리스트 메소드\n",
    "  - 요소 추가\n",
    "  - 요소 제거\n",
    "  - 정렬\n",
    "  - 뒤집기"
   ]
  },
  {
   "cell_type": "code",
   "execution_count": 34,
   "metadata": {
    "colab": {
     "base_uri": "https://localhost:8080/"
    },
    "executionInfo": {
     "elapsed": 301,
     "status": "ok",
     "timestamp": 1737598562975,
     "user": {
      "displayName": "함상현",
      "userId": "09828385127103845547"
     },
     "user_tz": -540
    },
    "id": "-2RLkkMF8Uyl",
    "outputId": "a9c29210-71c6-4822-f6d5-061b46a15e93"
   },
   "outputs": [
    {
     "name": "stdout",
     "output_type": "stream",
     "text": [
      "[1, 2, 3, 4, 5, 6]\n",
      "[1, 2, 4, 5, 6]\n",
      "[1, 2, 4, 5, 6]\n",
      "[6, 5, 4, 2, 1]\n"
     ]
    }
   ],
   "source": [
    "my_list = [1, 2, 3, 4, 5]\n",
    "\n",
    "# 리스트에 요소 추가\n",
    "my_list.append(6)\n",
    "print(my_list) # [1, 2, 3, 4, 5, 6]\n",
    "\n",
    "# 리스트에서 요소 제거\n",
    "my_list.remove(3)\n",
    "print(my_list) # [1, 2, 4, 5, 6]\n",
    "\n",
    "# 리스트 정렬\n",
    "my_list.sort()\n",
    "print(my_list) # [1, 2, 4, 5, 6]\n",
    "\n",
    "# 리스트 뒤집기\n",
    "my_list.reverse()\n",
    "print(my_list) # [6, 5, 4, 2, 1]"
   ]
  },
  {
   "cell_type": "markdown",
   "metadata": {
    "id": "Gr6LwNk_8tlE"
   },
   "source": [
    "#딕셔너리 메소드\n",
    "  - 키-값 추가\n",
    "  - 특정 키의 값 가져오기\n",
    "  - 모든 키 가져오기\n",
    "  - 모든 값 가져오기"
   ]
  },
  {
   "cell_type": "code",
   "execution_count": 35,
   "metadata": {
    "colab": {
     "base_uri": "https://localhost:8080/"
    },
    "executionInfo": {
     "elapsed": 271,
     "status": "ok",
     "timestamp": 1737598644292,
     "user": {
      "displayName": "함상현",
      "userId": "09828385127103845547"
     },
     "user_tz": -540
    },
    "id": "aaYrD9VE8e-f",
    "outputId": "60628d5b-9360-42a6-ac2a-10e66e559a06"
   },
   "outputs": [
    {
     "name": "stdout",
     "output_type": "stream",
     "text": [
      "{'name': 'Alice', 'age': 25, 'city': 'New York', 'email': 'alice@example.com'}\n",
      "Alice\n",
      "dict_keys(['name', 'age', 'city', 'email'])\n",
      "dict_values(['Alice', 25, 'New York', 'alice@example.com'])\n"
     ]
    }
   ],
   "source": [
    "my_dict = {\"name\": \"Alice\", \"age\": 25, \"city\": \"New York\"}\n",
    "\n",
    "# 키-값 쌍 추가\n",
    "my_dict[\"email\"] = \"alice@example.com\"\n",
    "print(my_dict) # {'name': 'Alice', 'age': 25, 'city': 'New York', 'email': 'alice@example.com'}\n",
    "\n",
    "# 특정 키의 값 가져오기\n",
    "print(my_dict.get(\"name\")) # \"Alice\"\n",
    "\n",
    "# 모든 키 가져오기\n",
    "print(my_dict.keys()) # dict_keys(['name', 'age', 'city', 'email'])\n",
    "\n",
    "# 모든 값 가져오기\n",
    "print(my_dict.values()) # dict_values(['Alice', 25, 'New York', 'alice@example.com'])"
   ]
  },
  {
   "cell_type": "markdown",
   "metadata": {
    "id": "ilmkusSQ9wbs"
   },
   "source": [
    "#집합 메소드\n",
    "  - 요소 추가\n",
    "  - 요소 제거\n",
    "  - 다른 집합과의 합집합\n",
    "  - 다른 집합과의 교집합"
   ]
  },
  {
   "cell_type": "code",
   "execution_count": 36,
   "metadata": {
    "colab": {
     "base_uri": "https://localhost:8080/"
    },
    "executionInfo": {
     "elapsed": 303,
     "status": "ok",
     "timestamp": 1737598957759,
     "user": {
      "displayName": "함상현",
      "userId": "09828385127103845547"
     },
     "user_tz": -540
    },
    "id": "6Ax5oJXt8y1F",
    "outputId": "8b0a1ab3-bbf6-4501-b1a8-5b259aa85902"
   },
   "outputs": [
    {
     "name": "stdout",
     "output_type": "stream",
     "text": [
      "{1, 2, 3, 4, 5, 6}\n",
      "{1, 2, 4, 5, 6}\n",
      "{1, 2, 4, 5, 6, 7, 8}\n",
      "{4, 5, 6}\n"
     ]
    }
   ],
   "source": [
    "my_set = {1, 2, 3, 4, 5}\n",
    "\n",
    "# 요소 추가\n",
    "my_set.add(6)\n",
    "print(my_set) # {1, 2, 3, 4, 5, 6}\n",
    "\n",
    "# 요소 제거\n",
    "my_set.remove(3)\n",
    "print(my_set) # {1, 2, 4, 5, 6}\n",
    "\n",
    "# 다른 집합과의 합집합\n",
    "another_set = {4, 5, 6, 7, 8}\n",
    "print(my_set.union(another_set)) # {1, 2, 4, 5, 6, 7, 8}\n",
    "\n",
    "# 다른 집합과의 교집합\n",
    "print(my_set.intersection(another_set)) # {4, 5, 6}"
   ]
  },
  {
   "cell_type": "markdown",
   "metadata": {
    "id": "9quwNtZrLqKC"
   },
   "source": [
    "#내장 함수 (Built-in Fuunctions) 개요\n",
    "####파이썬에는 별도의 import 없이 바로 상용할 수 있는 내장 합수들이 제공된다.<br>이들은 다양한 기능을 수행하며, 파이썬 프로그래밍 효율을 높여준다.<br>\n",
    "<br>\n",
    "\n",
    "  - len() : 자료형(문자열,리스트 등)의 길이를 반환\n",
    "  - range():특정 범위의 정수 시퀸스를 만들어줄\n",
    "  - type():객체(변수)의 자료형을 알려줌\n",
    "  - print():콘솔에 출력\n",
    "  - input():콘솔에서 사용자 입력 받음\n",
    "  - sum(), min(), max()\n",
    "  - abs(), round()\n",
    "  - enumerate()\n",
    "  - map(), filter(), zip()\n",
    "  - (이 외에도 매우 많습니다!)"
   ]
  },
  {
   "cell_type": "code",
   "execution_count": 65,
   "metadata": {
    "colab": {
     "base_uri": "https://localhost:8080/"
    },
    "executionInfo": {
     "elapsed": 298,
     "status": "ok",
     "timestamp": 1737601087743,
     "user": {
      "displayName": "함상현",
      "userId": "09828385127103845547"
     },
     "user_tz": -540
    },
    "id": "yVs_3n6H9_Wk",
    "outputId": "4ec53249-5f96-4a36-836b-5ab0906cc9de"
   },
   "outputs": [
    {
     "name": "stdout",
     "output_type": "stream",
     "text": [
      "12\n",
      "hello, world\n",
      "HELLO, WORLD\n",
      "Hello, Python\n",
      "None\n"
     ]
    }
   ],
   "source": []
  },
  {
   "cell_type": "code",
   "execution_count": 68,
   "metadata": {
    "colab": {
     "base_uri": "https://localhost:8080/"
    },
    "executionInfo": {
     "elapsed": 318,
     "status": "ok",
     "timestamp": 1737601262981,
     "user": {
      "displayName": "함상현",
      "userId": "09828385127103845547"
     },
     "user_tz": -540
    },
    "id": "5SB-bB1e_47l",
    "outputId": "f895dbf9-bac7-4ea7-eb45-4f81f8952edf"
   },
   "outputs": [
    {
     "name": "stdout",
     "output_type": "stream",
     "text": [
      "None\n"
     ]
    }
   ],
   "source": []
  },
  {
   "cell_type": "code",
   "execution_count": null,
   "metadata": {
    "id": "Qgl4L6bXGJkb"
   },
   "outputs": [
    {
     "name": "stdout",
     "output_type": "stream",
     "text": [
      "=== 가위 바위 보 게임 ===\n",
      "\n",
      "가위, 바위, 보 중 하나를 선택하세요 (종료하려면 '끝' 입력):\n",
      "잘못된 입력입니다. 다시 시도해주세요.\n",
      "\n",
      "가위, 바위, 보 중 하나를 선택하세요 (종료하려면 '끝' 입력):\n",
      "\n",
      "플레이어: 가위\n",
      "컴퓨터: 바위\n",
      "컴퓨터 승리!\n",
      "\n",
      "가위, 바위, 보 중 하나를 선택하세요 (종료하려면 '끝' 입력):\n",
      "\n",
      "플레이어: 바위\n",
      "컴퓨터: 가위\n",
      "플레이어 승리!\n",
      "\n",
      "가위, 바위, 보 중 하나를 선택하세요 (종료하려면 '끝' 입력):\n",
      "\n",
      "플레이어: 보\n",
      "컴퓨터: 보\n",
      "비겼습니다!\n",
      "\n",
      "가위, 바위, 보 중 하나를 선택하세요 (종료하려면 '끝' 입력):\n",
      "\n",
      "플레이어: 보\n",
      "컴퓨터: 바위\n",
      "플레이어 승리!\n",
      "\n",
      "가위, 바위, 보 중 하나를 선택하세요 (종료하려면 '끝' 입력):\n",
      "\n",
      "플레이어: 보\n",
      "컴퓨터: 바위\n",
      "플레이어 승리!\n",
      "\n",
      "가위, 바위, 보 중 하나를 선택하세요 (종료하려면 '끝' 입력):\n",
      "\n",
      "플레이어: 가위\n",
      "컴퓨터: 가위\n",
      "비겼습니다!\n",
      "\n",
      "가위, 바위, 보 중 하나를 선택하세요 (종료하려면 '끝' 입력):\n",
      "게임을 종료합니다.\n"
     ]
    }
   ],
   "source": [
    "import random\n",
    "\n",
    "def play_game():\n",
    "    choices = [\"가위\", \"바위\", \"보\"]\n",
    "    \n",
    "    while True:\n",
    "        # 사용자 입력 받기\n",
    "        print(\"\\n가위, 바위, 보 중 하나를 선택하세요 (종료하려면 '끝' 입력):\")\n",
    "        player = input(\"> \")\n",
    "        \n",
    "        if player == \"끝\":\n",
    "            print(\"게임을 종료합니다.\")\n",
    "            break\n",
    "            \n",
    "        if player not in choices:\n",
    "            print(\"잘못된 입력입니다. 다시 시도해주세요.\")\n",
    "            \n",
    "            continue\n",
    "        \n",
    "        # 컴퓨터의 선택\n",
    "        computer = random.choice(choices)\n",
    "        \n",
    "        print(f\"\\n플레이어: {player}\")\n",
    "        print(f\"컴퓨터: {computer}\")\n",
    "        \n",
    "        # 승패 판정\n",
    "        if player == computer:\n",
    "            print(\"비겼습니다!\")\n",
    "        elif (player == \"가위\" and computer == \"보\") or \\\n",
    "             (player == \"바위\" and computer == \"가위\") or \\\n",
    "             (player == \"보\" and computer == \"바위\"):\n",
    "            print(\"플레이어 승리!\")\n",
    "        else:\n",
    "            print(\"컴퓨터 승리!\")\n",
    "\n",
    "if __name__ == \"__main__\":\n",
    "    print(\"=== 가위 바위 보 게임 ===\")\n",
    "    play_game()"
   ]
  },
  {
   "cell_type": "code",
   "execution_count": null,
   "metadata": {},
   "outputs": [],
   "source": []
  }
 ],
 "metadata": {
  "colab": {
   "authorship_tag": "ABX9TyPiTT7ivP+fNzgz0du/uF0Z",
   "provenance": []
  },
  "kernelspec": {
   "display_name": ".venv",
   "language": "python",
   "name": "python3"
  },
  "language_info": {
   "codemirror_mode": {
    "name": "ipython",
    "version": 3
   },
   "file_extension": ".py",
   "mimetype": "text/x-python",
   "name": "python",
   "nbconvert_exporter": "python",
   "pygments_lexer": "ipython3",
   "version": "3.13.1"
  }
 },
 "nbformat": 4,
 "nbformat_minor": 0
}
